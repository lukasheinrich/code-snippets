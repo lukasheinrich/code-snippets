{
 "cells": [
  {
   "cell_type": "code",
   "execution_count": 2,
   "metadata": {
    "collapsed": false
   },
   "outputs": [
    {
     "name": "stdout",
     "output_type": "stream",
     "text": [
      "Populating the interactive namespace from numpy and matplotlib\n"
     ]
    }
   ],
   "source": [
    "%pylab inline --no-import-all"
   ]
  },
  {
   "cell_type": "code",
   "execution_count": 3,
   "metadata": {
    "collapsed": false
   },
   "outputs": [],
   "source": [
    "from sympy import Symbol, symbols, solve, lambdify\n",
    "from sympy import init_printing\n",
    "init_printing()\n",
    "#observables\n",
    "n1, n2 =  symbols('n1 n2')\n",
    "#parameters\n",
    "s1, s2, b1, b2, mu =  symbols('s1 s2 b1 b2 mu')\n",
    "#helpers\n",
    "(n1, n2) =  symbols('n1 n2')\n",
    "#estimators\n",
    "muhat = symbols('muhat')\n",
    "\n",
    "nu1 = muhat*s1+b1\n",
    "nu2 = muhat*s2+b2\n",
    "\n",
    "#solve for L'=0\n",
    "[expr1, expr2] = solve( s1+s2 - n1*s1/nu1 - n2*s2/nu2, muhat)"
   ]
  },
  {
   "cell_type": "code",
   "execution_count": 4,
   "metadata": {
    "collapsed": false
   },
   "outputs": [
    {
     "data": {
      "image/png": "[encoded data removed]",
      "text/latex": [
       "$$\\begin{pmatrix}1.0, & 2.0\\end{pmatrix}$$"
      ],
      "text/plain": [
       "(1.0, 2.0)"
      ]
     },
     "execution_count": 4,
     "metadata": {},
     "output_type": "execute_result"
    }
   ],
   "source": [
    "muhatFunc = lambdify((n1,n2,b1,b2,s1,s2),expr2)\n",
    "#test if that works\n",
    "muhatFunc(10,10,5,5,5,5),muhatFunc(15,25,5,15,5,5)"
   ]
  },
  {
   "cell_type": "code",
   "execution_count": 5,
   "metadata": {
    "collapsed": false
   },
   "outputs": [],
   "source": [
    "def lambda0(muhat,n,b,s):\n",
    "    return 2*(-muhat*s + n*np.log(1+(muhat*s)/b))\n",
    "\n",
    "def q0_oneBin_DGSS(n,b,s):\n",
    "    muhat = float((n-b))/float(s)\n",
    "    q = lambda0(muhat,n,b,s)\n",
    "    return q\n",
    "\n",
    "def q0_twoBin_DGSS(n1,n2,b1,b2,s1,s2):\n",
    "    muhat = muhatFunc(n1,n2,b1,b2,s1,s2)\n",
    "    q1 = lambda0(muhat,n1,b1,s1)\n",
    "    q2 = lambda0(muhat,n2,b2,s2)\n",
    "    return q1+q2\n",
    "\n",
    "def q0_profile(n,b,s):\n",
    "    return 2*(-(n-b)+n*np.log(np.divide(n,b)))"
   ]
  },
  {
   "cell_type": "code",
   "execution_count": 6,
   "metadata": {
    "collapsed": false
   },
   "outputs": [],
   "source": [
    "def get_roc(s1,s2,b_bin1_expts,b_bin2_expts,sb_bin1_expts,sb_bin2_expts):\n",
    "    q0_b_dgss  = [q0_twoBin_DGSS(n1,n2,b1val,b2val,s1,s2) for n1,n2 in zip(b_bin1_expts,b_bin2_expts)];\n",
    "    q0_sb_dgss = [q0_twoBin_DGSS(n1,n2,b1val,b2val,s1,s2) for n1,n2 in zip(sb_bin1_expts,sb_bin2_expts)];\n",
    "    \n",
    "    plt.clf()\n",
    "    pylab.yscale('symlog',linthreshy=1) #works for histograms\n",
    "    q0_b_dgss_hist = plt.hist(q0_b_dgss, bins = np.linspace(0,100,100), alpha = 0.3, color = 'b')\n",
    "    q0_sb_dgss_hist = plt.hist(q0_sb_dgss, bins = q0_b_dgss_hist[1], alpha = 0.3, color = 'r')\n",
    "    \n",
    "    integral_b = 1-np.cumsum(q0_b_dgss_hist[0])/np.sum(q0_b_dgss_hist[0])\n",
    "    integral_sb = 1-np.cumsum(q0_sb_dgss_hist[0])/np.sum(q0_sb_dgss_hist[0])\n",
    "    \n",
    "    return integral_b,integral_sb"
   ]
  },
  {
   "cell_type": "code",
   "execution_count": 7,
   "metadata": {
    "collapsed": false
   },
   "outputs": [],
   "source": [
    "nexpts = 100000\n",
    "\n",
    "b1val = 30.\n",
    "s1val = 10.\n",
    "b_bin1_expts = np.random.poisson(b1val,nexpts)\n",
    "sb_bin1_expts = np.random.poisson(s1val+b1val,nexpts)\n",
    "\n",
    "b2val = 30.\n",
    "s2val = 12.\n",
    "b_bin2_expts = np.random.poisson(b2val,nexpts)\n",
    "sb_bin2_expts = np.random.poisson(s2val+b2val,nexpts)"
   ]
  },
  {
   "cell_type": "code",
   "execution_count": null,
   "metadata": {
    "collapsed": false
   },
   "outputs": [
    {
     "data": {
      "image/png": "[encoded data removed]",
      "text/plain": [
       "<matplotlib.figure.Figure at 0x107c48f50>"
      ]
     },
     "metadata": {},
     "output_type": "display_data"
    }
   ],
   "source": [
    "#this should give the optimal ROC, since we put in the correct signal contributions (i.e. 10,12)\n",
    "\n",
    "roc1 = get_roc(s1val,s2val,b_bin1_expts,b_bin2_expts,sb_bin1_expts,sb_bin2_expts)"
   ]
  },
  {
   "cell_type": "code",
   "execution_count": null,
   "metadata": {
    "collapsed": false
   },
   "outputs": [],
   "source": [
    "#say in from run 1 we estimated that the signal yields are not 10,12 but 5,17, we expect to get a worse test.\n",
    "\n",
    "#from run 1\n",
    "nexpts_run1 = 10\n",
    "s1hat = np.random.poisson(s1val+b1val,nexpts_run1)-b1val\n",
    "s2hat = np.random.poisson(s1val+b2val,nexpts_run1)-b2val\n",
    "\n",
    "#filter for expts in which we see excess (s_i>0)\n",
    "si_pairs = filter(lambda x: x[0]>0 and x[1]>0,zip(s1hat,s2hat))\n",
    "roc2 = [get_roc(x[0],x[1],b_bin1_expts,b_bin2_expts,sb_bin1_expts,sb_bin2_expts) for x in si_pairs]"
   ]
  },
  {
   "cell_type": "code",
   "execution_count": null,
   "metadata": {
    "collapsed": false
   },
   "outputs": [],
   "source": [
    "plt.loglog()\n",
    "plt.ylim(1e-2,1)\n",
    "plt.xlim(1e-4,1)\n",
    "plt.plot(roc1[0],roc1[1],lw=2, color = 'black')\n",
    "for roc2_res in roc2:\n",
    "    plt.plot(roc2_res[0],roc2_res[1],lw=1, alpha = 0.5)"
   ]
  },
  {
   "cell_type": "code",
   "execution_count": null,
   "metadata": {
    "collapsed": true
   },
   "outputs": [],
   "source": []
  }
 ],
 "metadata": {
  "kernelspec": {
   "display_name": "Python 2",
   "language": "python",
   "name": "python2"
  },
  "language_info": {
   "codemirror_mode": {
    "name": "ipython",
    "version": 2
   },
   "file_extension": ".py",
   "mimetype": "text/x-python",
   "name": "python",
   "nbconvert_exporter": "python",
   "pygments_lexer": "ipython2",
   "version": "2.7.6"
  }
 },
 "nbformat": 4,
 "nbformat_minor": 0
}
